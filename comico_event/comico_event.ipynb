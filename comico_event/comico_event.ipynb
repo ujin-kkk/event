{
  "nbformat": 4,
  "nbformat_minor": 0,
  "metadata": {
    "colab": {
      "name": "comico_event.ipynb",
      "provenance": [],
      "collapsed_sections": []
    },
    "kernelspec": {
      "name": "python3",
      "display_name": "Python 3"
    }
  },
  "cells": [
    {
      "cell_type": "code",
      "metadata": {
        "id": "-vhkj66tz4CQ"
      },
      "source": [
        "# data analysis\n",
        "import pandas as pd\n",
        "import numpy as np\n",
        "\n",
        "# visualization\n",
        "import matplotlib.pyplot as plt\n",
        "import seaborn as sns\n",
        "\n",
        "# modeling\n",
        "from sklearn.cluster import KMeans\n",
        "\n",
        "\n",
        "user_purchase = pd.read_excel('/content/sample_data/comico_event.xlsx', sheet_name = 'user_purchase')\n",
        "user_visit = pd.read_excel('/content/sample_data/comico_event.xlsx', sheet_name = 'user_visit')\n"
      ],
      "execution_count": 172,
      "outputs": []
    },
    {
      "cell_type": "markdown",
      "metadata": {
        "id": "ret1kTM6CRbw"
      },
      "source": [
        "**Purchase**"
      ]
    },
    {
      "cell_type": "code",
      "metadata": {
        "colab": {
          "base_uri": "https://localhost:8080/",
          "height": 204
        },
        "id": "0icUGvzr04jU",
        "outputId": "93a583ed-8cb5-4f4c-c207-e3dd360b2886"
      },
      "source": [
        "user_purchase.head()"
      ],
      "execution_count": 173,
      "outputs": [
        {
          "output_type": "execute_result",
          "data": {
            "text/html": [
              "<div>\n",
              "<style scoped>\n",
              "    .dataframe tbody tr th:only-of-type {\n",
              "        vertical-align: middle;\n",
              "    }\n",
              "\n",
              "    .dataframe tbody tr th {\n",
              "        vertical-align: top;\n",
              "    }\n",
              "\n",
              "    .dataframe thead th {\n",
              "        text-align: right;\n",
              "    }\n",
              "</style>\n",
              "<table border=\"1\" class=\"dataframe\">\n",
              "  <thead>\n",
              "    <tr style=\"text-align: right;\">\n",
              "      <th></th>\n",
              "      <th>user_id</th>\n",
              "      <th>item_id</th>\n",
              "      <th>price</th>\n",
              "      <th>timestamp</th>\n",
              "    </tr>\n",
              "  </thead>\n",
              "  <tbody>\n",
              "    <tr>\n",
              "      <th>0</th>\n",
              "      <td>u00934</td>\n",
              "      <td>item03</td>\n",
              "      <td>100.0</td>\n",
              "      <td>2020-09-30 19:11:22</td>\n",
              "    </tr>\n",
              "    <tr>\n",
              "      <th>1</th>\n",
              "      <td>u00934</td>\n",
              "      <td>item04</td>\n",
              "      <td>100.0</td>\n",
              "      <td>2020-09-30 19:11:22</td>\n",
              "    </tr>\n",
              "    <tr>\n",
              "      <th>2</th>\n",
              "      <td>u00934</td>\n",
              "      <td>item05</td>\n",
              "      <td>100.0</td>\n",
              "      <td>2020-09-30 19:11:22</td>\n",
              "    </tr>\n",
              "    <tr>\n",
              "      <th>3</th>\n",
              "      <td>u01865</td>\n",
              "      <td>item02</td>\n",
              "      <td>100.0</td>\n",
              "      <td>2020-09-30 20:14:21</td>\n",
              "    </tr>\n",
              "    <tr>\n",
              "      <th>4</th>\n",
              "      <td>u01865</td>\n",
              "      <td>item04</td>\n",
              "      <td>100.0</td>\n",
              "      <td>2020-09-30 20:14:21</td>\n",
              "    </tr>\n",
              "  </tbody>\n",
              "</table>\n",
              "</div>"
            ],
            "text/plain": [
              "  user_id item_id  price           timestamp\n",
              "0  u00934  item03  100.0 2020-09-30 19:11:22\n",
              "1  u00934  item04  100.0 2020-09-30 19:11:22\n",
              "2  u00934  item05  100.0 2020-09-30 19:11:22\n",
              "3  u01865  item02  100.0 2020-09-30 20:14:21\n",
              "4  u01865  item04  100.0 2020-09-30 20:14:21"
            ]
          },
          "metadata": {
            "tags": []
          },
          "execution_count": 173
        }
      ]
    },
    {
      "cell_type": "code",
      "metadata": {
        "colab": {
          "base_uri": "https://localhost:8080/",
          "height": 297
        },
        "id": "5CvgSWBn4DsL",
        "outputId": "46b5f026-9a72-45d8-c07e-3acd3ae589b3"
      },
      "source": [
        "user_purchase.describe()"
      ],
      "execution_count": 174,
      "outputs": [
        {
          "output_type": "execute_result",
          "data": {
            "text/html": [
              "<div>\n",
              "<style scoped>\n",
              "    .dataframe tbody tr th:only-of-type {\n",
              "        vertical-align: middle;\n",
              "    }\n",
              "\n",
              "    .dataframe tbody tr th {\n",
              "        vertical-align: top;\n",
              "    }\n",
              "\n",
              "    .dataframe thead th {\n",
              "        text-align: right;\n",
              "    }\n",
              "</style>\n",
              "<table border=\"1\" class=\"dataframe\">\n",
              "  <thead>\n",
              "    <tr style=\"text-align: right;\">\n",
              "      <th></th>\n",
              "      <th>price</th>\n",
              "    </tr>\n",
              "  </thead>\n",
              "  <tbody>\n",
              "    <tr>\n",
              "      <th>count</th>\n",
              "      <td>943.000000</td>\n",
              "    </tr>\n",
              "    <tr>\n",
              "      <th>mean</th>\n",
              "      <td>105.832450</td>\n",
              "    </tr>\n",
              "    <tr>\n",
              "      <th>std</th>\n",
              "      <td>23.448039</td>\n",
              "    </tr>\n",
              "    <tr>\n",
              "      <th>min</th>\n",
              "      <td>100.000000</td>\n",
              "    </tr>\n",
              "    <tr>\n",
              "      <th>25%</th>\n",
              "      <td>100.000000</td>\n",
              "    </tr>\n",
              "    <tr>\n",
              "      <th>50%</th>\n",
              "      <td>100.000000</td>\n",
              "    </tr>\n",
              "    <tr>\n",
              "      <th>75%</th>\n",
              "      <td>100.000000</td>\n",
              "    </tr>\n",
              "    <tr>\n",
              "      <th>max</th>\n",
              "      <td>200.000000</td>\n",
              "    </tr>\n",
              "  </tbody>\n",
              "</table>\n",
              "</div>"
            ],
            "text/plain": [
              "            price\n",
              "count  943.000000\n",
              "mean   105.832450\n",
              "std     23.448039\n",
              "min    100.000000\n",
              "25%    100.000000\n",
              "50%    100.000000\n",
              "75%    100.000000\n",
              "max    200.000000"
            ]
          },
          "metadata": {
            "tags": []
          },
          "execution_count": 174
        }
      ]
    },
    {
      "cell_type": "code",
      "metadata": {
        "colab": {
          "base_uri": "https://localhost:8080/"
        },
        "id": "hbgq2wp85z1x",
        "outputId": "635d6944-b600-4a3f-99b2-13b30ac1b775"
      },
      "source": [
        "# delete row with missing values\n",
        "user_purchase.isnull().sum()"
      ],
      "execution_count": 175,
      "outputs": [
        {
          "output_type": "execute_result",
          "data": {
            "text/plain": [
              "user_id       0\n",
              "item_id      10\n",
              "price        10\n",
              "timestamp    10\n",
              "dtype: int64"
            ]
          },
          "metadata": {
            "tags": []
          },
          "execution_count": 175
        }
      ]
    },
    {
      "cell_type": "code",
      "metadata": {
        "id": "KTVQtvpm8lE7"
      },
      "source": [
        "user_purchase= user_purchase.dropna()"
      ],
      "execution_count": 176,
      "outputs": []
    },
    {
      "cell_type": "code",
      "metadata": {
        "colab": {
          "base_uri": "https://localhost:8080/"
        },
        "id": "9pCtLaBN8ph0",
        "outputId": "425746a7-2096-4050-beec-73ec63892fb9"
      },
      "source": [
        "user_purchase.isnull().sum()"
      ],
      "execution_count": 177,
      "outputs": [
        {
          "output_type": "execute_result",
          "data": {
            "text/plain": [
              "user_id      0\n",
              "item_id      0\n",
              "price        0\n",
              "timestamp    0\n",
              "dtype: int64"
            ]
          },
          "metadata": {
            "tags": []
          },
          "execution_count": 177
        }
      ]
    },
    {
      "cell_type": "code",
      "metadata": {
        "colab": {
          "base_uri": "https://localhost:8080/",
          "height": 204
        },
        "id": "dumT7RREy9CR",
        "outputId": "453fb497-49d0-412d-a21d-938da117ef54"
      },
      "source": [
        "# 아이템명 바꾸기\n",
        "user_purchase['item_id'] = user_purchase['item_id']. replace (['item01'],'01')\n",
        "user_purchase['item_id'] = user_purchase['item_id']. replace (['item02'],'02')\n",
        "user_purchase['item_id'] = user_purchase['item_id']. replace (['item03'],'03')\n",
        "user_purchase['item_id'] = user_purchase['item_id']. replace (['item04'],'04')\n",
        "user_purchase['item_id'] = user_purchase['item_id']. replace (['item05'],'05')\n",
        "user_purchase['item_id'] = user_purchase['item_id']. replace (['item06'],'06')\n",
        "user_purchase['item_id'] = user_purchase['item_id']. replace (['item07'],'07')\n",
        "user_purchase['item_id'] = user_purchase['item_id']. replace (['item08'],'08')\n",
        "user_purchase['item_id'] = user_purchase['item_id']. replace (['item09'],'09')\n",
        "user_purchase['item_id'] = user_purchase['item_id']. replace (['item10'],'10')\n",
        "\n",
        "user_purchase.head()"
      ],
      "execution_count": 178,
      "outputs": [
        {
          "output_type": "execute_result",
          "data": {
            "text/html": [
              "<div>\n",
              "<style scoped>\n",
              "    .dataframe tbody tr th:only-of-type {\n",
              "        vertical-align: middle;\n",
              "    }\n",
              "\n",
              "    .dataframe tbody tr th {\n",
              "        vertical-align: top;\n",
              "    }\n",
              "\n",
              "    .dataframe thead th {\n",
              "        text-align: right;\n",
              "    }\n",
              "</style>\n",
              "<table border=\"1\" class=\"dataframe\">\n",
              "  <thead>\n",
              "    <tr style=\"text-align: right;\">\n",
              "      <th></th>\n",
              "      <th>user_id</th>\n",
              "      <th>item_id</th>\n",
              "      <th>price</th>\n",
              "      <th>timestamp</th>\n",
              "    </tr>\n",
              "  </thead>\n",
              "  <tbody>\n",
              "    <tr>\n",
              "      <th>0</th>\n",
              "      <td>u00934</td>\n",
              "      <td>03</td>\n",
              "      <td>100.0</td>\n",
              "      <td>2020-09-30 19:11:22</td>\n",
              "    </tr>\n",
              "    <tr>\n",
              "      <th>1</th>\n",
              "      <td>u00934</td>\n",
              "      <td>04</td>\n",
              "      <td>100.0</td>\n",
              "      <td>2020-09-30 19:11:22</td>\n",
              "    </tr>\n",
              "    <tr>\n",
              "      <th>2</th>\n",
              "      <td>u00934</td>\n",
              "      <td>05</td>\n",
              "      <td>100.0</td>\n",
              "      <td>2020-09-30 19:11:22</td>\n",
              "    </tr>\n",
              "    <tr>\n",
              "      <th>3</th>\n",
              "      <td>u01865</td>\n",
              "      <td>02</td>\n",
              "      <td>100.0</td>\n",
              "      <td>2020-09-30 20:14:21</td>\n",
              "    </tr>\n",
              "    <tr>\n",
              "      <th>4</th>\n",
              "      <td>u01865</td>\n",
              "      <td>04</td>\n",
              "      <td>100.0</td>\n",
              "      <td>2020-09-30 20:14:21</td>\n",
              "    </tr>\n",
              "  </tbody>\n",
              "</table>\n",
              "</div>"
            ],
            "text/plain": [
              "  user_id item_id  price           timestamp\n",
              "0  u00934      03  100.0 2020-09-30 19:11:22\n",
              "1  u00934      04  100.0 2020-09-30 19:11:22\n",
              "2  u00934      05  100.0 2020-09-30 19:11:22\n",
              "3  u01865      02  100.0 2020-09-30 20:14:21\n",
              "4  u01865      04  100.0 2020-09-30 20:14:21"
            ]
          },
          "metadata": {
            "tags": []
          },
          "execution_count": 178
        }
      ]
    },
    {
      "cell_type": "code",
      "metadata": {
        "colab": {
          "base_uri": "https://localhost:8080/"
        },
        "id": "Zy0lLvrvE3xo",
        "outputId": "364166d4-aa9c-41c1-d372-fa6056063a56"
      },
      "source": [
        "item_counts = user_purchase['item_id'].value_counts()\n",
        "item_counts"
      ],
      "execution_count": 179,
      "outputs": [
        {
          "output_type": "execute_result",
          "data": {
            "text/plain": [
              "03    193\n",
              "05    180\n",
              "01    179\n",
              "02    178\n",
              "04    158\n",
              "06     15\n",
              "10     12\n",
              "08     10\n",
              "09     10\n",
              "07      8\n",
              "Name: item_id, dtype: int64"
            ]
          },
          "metadata": {
            "tags": []
          },
          "execution_count": 179
        }
      ]
    },
    {
      "cell_type": "code",
      "metadata": {
        "colab": {
          "base_uri": "https://localhost:8080/",
          "height": 280
        },
        "id": "0OaCMQE3FZH_",
        "outputId": "dbe6433b-6a6a-474d-c1e1-a3dea81e56e8"
      },
      "source": [
        "item_counts = user_purchase['item_id'].value_counts()\n",
        "sns.barplot(x=item_counts.index, y=item_counts)\n",
        "plt.xlabel('Item ID', fontsize=10)\n",
        "plt.ylabel('Qty', fontsize=10)\n",
        "plt.show()"
      ],
      "execution_count": 180,
      "outputs": [
        {
          "output_type": "display_data",
          "data": {
            "image/png": "[encoded data removed]",
            "text/plain": [
              "<Figure size 432x288 with 1 Axes>"
            ]
          },
          "metadata": {
            "tags": [],
            "needs_background": "light"
          }
        }
      ]
    },
    {
      "cell_type": "code",
      "metadata": {
        "colab": {
          "base_uri": "https://localhost:8080/"
        },
        "id": "E8XXjT0bHHwV",
        "outputId": "307b8440-5b83-4cd3-9f52-7d96c6864bec"
      },
      "source": [
        "# multi-purchase\n",
        "multi_purchase = user_purchase['user_id'].value_counts() >1\n",
        "multi_purchase.value_counts()"
      ],
      "execution_count": 181,
      "outputs": [
        {
          "output_type": "execute_result",
          "data": {
            "text/plain": [
              "True     318\n",
              "False    148\n",
              "Name: user_id, dtype: int64"
            ]
          },
          "metadata": {
            "tags": []
          },
          "execution_count": 181
        }
      ]
    },
    {
      "cell_type": "code",
      "metadata": {
        "colab": {
          "base_uri": "https://localhost:8080/",
          "height": 248
        },
        "id": "B-M5Jw9xQU_X",
        "outputId": "db5ae0f6-17c9-44cb-886e-44494e0a5384"
      },
      "source": [
        "ratio = [318, 148]\n",
        "labels = ['multi_purchase', 'single_purchase']\n",
        "\n",
        "plt.pie(ratio, labels=labels, autopct='%.1f%%')\n",
        "plt.show()"
      ],
      "execution_count": 182,
      "outputs": [
        {
          "output_type": "display_data",
          "data": {
            "image/png": "[encoded data removed]",
            "text/plain": [
              "<Figure size 432x288 with 1 Axes>"
            ]
          },
          "metadata": {
            "tags": []
          }
        }
      ]
    },
    {
      "cell_type": "markdown",
      "metadata": {
        "id": "QkD9dF8mBJtQ"
      },
      "source": [
        "**Visit**"
      ]
    },
    {
      "cell_type": "code",
      "metadata": {
        "colab": {
          "base_uri": "https://localhost:8080/",
          "height": 204
        },
        "id": "8EgHTfJQCbiW",
        "outputId": "f5380c1c-9430-4c77-8d00-9e5361b9d265"
      },
      "source": [
        "user_visit.head()"
      ],
      "execution_count": 183,
      "outputs": [
        {
          "output_type": "execute_result",
          "data": {
            "text/html": [
              "<div>\n",
              "<style scoped>\n",
              "    .dataframe tbody tr th:only-of-type {\n",
              "        vertical-align: middle;\n",
              "    }\n",
              "\n",
              "    .dataframe tbody tr th {\n",
              "        vertical-align: top;\n",
              "    }\n",
              "\n",
              "    .dataframe thead th {\n",
              "        text-align: right;\n",
              "    }\n",
              "</style>\n",
              "<table border=\"1\" class=\"dataframe\">\n",
              "  <thead>\n",
              "    <tr style=\"text-align: right;\">\n",
              "      <th></th>\n",
              "      <th>user_id</th>\n",
              "      <th>referrer</th>\n",
              "      <th>timestamp</th>\n",
              "    </tr>\n",
              "  </thead>\n",
              "  <tbody>\n",
              "    <tr>\n",
              "      <th>0</th>\n",
              "      <td>u01319</td>\n",
              "      <td>search</td>\n",
              "      <td>2020-09-30 18:38:10</td>\n",
              "    </tr>\n",
              "    <tr>\n",
              "      <th>1</th>\n",
              "      <td>u00241</td>\n",
              "      <td>app</td>\n",
              "      <td>2020-09-30 18:52:22</td>\n",
              "    </tr>\n",
              "    <tr>\n",
              "      <th>2</th>\n",
              "      <td>u00633</td>\n",
              "      <td>app</td>\n",
              "      <td>2020-09-30 18:58:11</td>\n",
              "    </tr>\n",
              "    <tr>\n",
              "      <th>3</th>\n",
              "      <td>u00088</td>\n",
              "      <td>app</td>\n",
              "      <td>2020-09-30 18:58:17</td>\n",
              "    </tr>\n",
              "    <tr>\n",
              "      <th>4</th>\n",
              "      <td>u00934</td>\n",
              "      <td>search</td>\n",
              "      <td>2020-09-30 19:02:23</td>\n",
              "    </tr>\n",
              "  </tbody>\n",
              "</table>\n",
              "</div>"
            ],
            "text/plain": [
              "  user_id referrer           timestamp\n",
              "0  u01319   search 2020-09-30 18:38:10\n",
              "1  u00241      app 2020-09-30 18:52:22\n",
              "2  u00633      app 2020-09-30 18:58:11\n",
              "3  u00088      app 2020-09-30 18:58:17\n",
              "4  u00934   search 2020-09-30 19:02:23"
            ]
          },
          "metadata": {
            "tags": []
          },
          "execution_count": 183
        }
      ]
    },
    {
      "cell_type": "code",
      "metadata": {
        "colab": {
          "base_uri": "https://localhost:8080/"
        },
        "id": "B_sOuITVCps0",
        "outputId": "c9277dc9-09e9-4f94-d4b7-119094bf4562"
      },
      "source": [
        "# delete row with missing values\n",
        "user_visit.isnull().sum()"
      ],
      "execution_count": 184,
      "outputs": [
        {
          "output_type": "execute_result",
          "data": {
            "text/plain": [
              "user_id      0\n",
              "referrer     0\n",
              "timestamp    0\n",
              "dtype: int64"
            ]
          },
          "metadata": {
            "tags": []
          },
          "execution_count": 184
        }
      ]
    },
    {
      "cell_type": "code",
      "metadata": {
        "colab": {
          "base_uri": "https://localhost:8080/",
          "height": 282
        },
        "id": "fUEjpF4lC7Vl",
        "outputId": "1ec31dd8-e11f-4c4b-f582-270acb7fc209"
      },
      "source": [
        "referrer = user_visit['referrer'].value_counts()\n",
        "sns.barplot(x=referrer.index, y=referrer)\n",
        "plt.xlabel('Channel', fontsize=13)\n",
        "plt.ylabel('Count', fontsize=13)\n",
        "plt.show()"
      ],
      "execution_count": 185,
      "outputs": [
        {
          "output_type": "display_data",
          "data": {
            "image/png": "[encoded data removed]",
            "text/plain": [
              "<Figure size 432x288 with 1 Axes>"
            ]
          },
          "metadata": {
            "tags": [],
            "needs_background": "light"
          }
        }
      ]
    }
  ]
}