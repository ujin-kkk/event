{
  "nbformat": 4,
  "nbformat_minor": 0,
  "metadata": {
    "colab": {
      "name": "comico_event.ipynb",
      "provenance": [],
      "collapsed_sections": [],
      "authorship_tag": "ABX9TyMfFxlIEGlT2M+5DOBjNoZV",
      "include_colab_link": true
    },
    "kernelspec": {
      "name": "python3",
      "display_name": "Python 3"
    }
  },
  "cells": [
    {
      "cell_type": "markdown",
      "metadata": {
        "id": "view-in-github",
        "colab_type": "text"
      },
      "source": [
        "<a href=\"https://colab.research.google.com/github/ujin-kkk/event/blob/main/event/comico_event.ipynb\" target=\"_parent\"><img src=\"https://colab.research.google.com/assets/colab-badge.svg\" alt=\"Open In Colab\"/></a>"
      ]
    },
    {
      "cell_type": "code",
      "metadata": {
        "id": "-vhkj66tz4CQ"
      },
      "source": [
        "# data analysis\n",
        "import pandas as pd\n",
        "import numpy as np\n",
        "\n",
        "# visualization\n",
        "import matplotlib.pyplot as plt\n",
        "import seaborn as sns\n",
        "\n",
        "# modeling\n",
        "from sklearn.cluster import KMeans\n",
        "\n",
        "\n",
        "user_purchase = pd.read_excel('/content/sample_data/comico_event.xlsx', sheet_name = 'user_purchase')\n",
        "user_visit = pd.read_excel('/content/sample_data/comico_event.xlsx', sheet_name = 'user_visit')\n"
      ],
      "execution_count": 3,
      "outputs": []
    },
    {
      "cell_type": "markdown",
      "metadata": {
        "id": "ret1kTM6CRbw"
      },
      "source": [
        "**Purchase**"
      ]
    },
    {
      "cell_type": "code",
      "metadata": {
        "colab": {
          "base_uri": "https://localhost:8080/",
          "height": 204
        },
        "id": "0icUGvzr04jU",
        "outputId": "081659a2-9ded-441b-fb76-c24c43129ec4"
      },
      "source": [
        "user_purchase.head()"
      ],
      "execution_count": 4,
      "outputs": [
        {
          "output_type": "execute_result",
          "data": {
            "text/html": [
              "<div>\n",
              "<style scoped>\n",
              "    .dataframe tbody tr th:only-of-type {\n",
              "        vertical-align: middle;\n",
              "    }\n",
              "\n",
              "    .dataframe tbody tr th {\n",
              "        vertical-align: top;\n",
              "    }\n",
              "\n",
              "    .dataframe thead th {\n",
              "        text-align: right;\n",
              "    }\n",
              "</style>\n",
              "<table border=\"1\" class=\"dataframe\">\n",
              "  <thead>\n",
              "    <tr style=\"text-align: right;\">\n",
              "      <th></th>\n",
              "      <th>user_id</th>\n",
              "      <th>item_id</th>\n",
              "      <th>price</th>\n",
              "      <th>timestamp</th>\n",
              "    </tr>\n",
              "  </thead>\n",
              "  <tbody>\n",
              "    <tr>\n",
              "      <th>0</th>\n",
              "      <td>u00934</td>\n",
              "      <td>item03</td>\n",
              "      <td>100.0</td>\n",
              "      <td>2020-09-30 19:11:22</td>\n",
              "    </tr>\n",
              "    <tr>\n",
              "      <th>1</th>\n",
              "      <td>u00934</td>\n",
              "      <td>item04</td>\n",
              "      <td>100.0</td>\n",
              "      <td>2020-09-30 19:11:22</td>\n",
              "    </tr>\n",
              "    <tr>\n",
              "      <th>2</th>\n",
              "      <td>u00934</td>\n",
              "      <td>item05</td>\n",
              "      <td>100.0</td>\n",
              "      <td>2020-09-30 19:11:22</td>\n",
              "    </tr>\n",
              "    <tr>\n",
              "      <th>3</th>\n",
              "      <td>u01865</td>\n",
              "      <td>item02</td>\n",
              "      <td>100.0</td>\n",
              "      <td>2020-09-30 20:14:21</td>\n",
              "    </tr>\n",
              "    <tr>\n",
              "      <th>4</th>\n",
              "      <td>u01865</td>\n",
              "      <td>item04</td>\n",
              "      <td>100.0</td>\n",
              "      <td>2020-09-30 20:14:21</td>\n",
              "    </tr>\n",
              "  </tbody>\n",
              "</table>\n",
              "</div>"
            ],
            "text/plain": [
              "  user_id item_id  price           timestamp\n",
              "0  u00934  item03  100.0 2020-09-30 19:11:22\n",
              "1  u00934  item04  100.0 2020-09-30 19:11:22\n",
              "2  u00934  item05  100.0 2020-09-30 19:11:22\n",
              "3  u01865  item02  100.0 2020-09-30 20:14:21\n",
              "4  u01865  item04  100.0 2020-09-30 20:14:21"
            ]
          },
          "metadata": {
            "tags": []
          },
          "execution_count": 4
        }
      ]
    },
    {
      "cell_type": "code",
      "metadata": {
        "colab": {
          "base_uri": "https://localhost:8080/",
          "height": 297
        },
        "id": "5CvgSWBn4DsL",
        "outputId": "75ce6d8f-31da-4c1f-878c-6eb8f15b1612"
      },
      "source": [
        "user_purchase.describe()"
      ],
      "execution_count": 5,
      "outputs": [
        {
          "output_type": "execute_result",
          "data": {
            "text/html": [
              "<div>\n",
              "<style scoped>\n",
              "    .dataframe tbody tr th:only-of-type {\n",
              "        vertical-align: middle;\n",
              "    }\n",
              "\n",
              "    .dataframe tbody tr th {\n",
              "        vertical-align: top;\n",
              "    }\n",
              "\n",
              "    .dataframe thead th {\n",
              "        text-align: right;\n",
              "    }\n",
              "</style>\n",
              "<table border=\"1\" class=\"dataframe\">\n",
              "  <thead>\n",
              "    <tr style=\"text-align: right;\">\n",
              "      <th></th>\n",
              "      <th>price</th>\n",
              "    </tr>\n",
              "  </thead>\n",
              "  <tbody>\n",
              "    <tr>\n",
              "      <th>count</th>\n",
              "      <td>943.000000</td>\n",
              "    </tr>\n",
              "    <tr>\n",
              "      <th>mean</th>\n",
              "      <td>105.832450</td>\n",
              "    </tr>\n",
              "    <tr>\n",
              "      <th>std</th>\n",
              "      <td>23.448039</td>\n",
              "    </tr>\n",
              "    <tr>\n",
              "      <th>min</th>\n",
              "      <td>100.000000</td>\n",
              "    </tr>\n",
              "    <tr>\n",
              "      <th>25%</th>\n",
              "      <td>100.000000</td>\n",
              "    </tr>\n",
              "    <tr>\n",
              "      <th>50%</th>\n",
              "      <td>100.000000</td>\n",
              "    </tr>\n",
              "    <tr>\n",
              "      <th>75%</th>\n",
              "      <td>100.000000</td>\n",
              "    </tr>\n",
              "    <tr>\n",
              "      <th>max</th>\n",
              "      <td>200.000000</td>\n",
              "    </tr>\n",
              "  </tbody>\n",
              "</table>\n",
              "</div>"
            ],
            "text/plain": [
              "            price\n",
              "count  943.000000\n",
              "mean   105.832450\n",
              "std     23.448039\n",
              "min    100.000000\n",
              "25%    100.000000\n",
              "50%    100.000000\n",
              "75%    100.000000\n",
              "max    200.000000"
            ]
          },
          "metadata": {
            "tags": []
          },
          "execution_count": 5
        }
      ]
    },
    {
      "cell_type": "code",
      "metadata": {
        "colab": {
          "base_uri": "https://localhost:8080/"
        },
        "id": "hbgq2wp85z1x",
        "outputId": "7bcffa51-7daf-46c5-9ec4-d2f9a8acfcd2"
      },
      "source": [
        "# delete row with missing values\n",
        "user_purchase.isnull().sum()"
      ],
      "execution_count": 6,
      "outputs": [
        {
          "output_type": "execute_result",
          "data": {
            "text/plain": [
              "user_id       0\n",
              "item_id      10\n",
              "price        10\n",
              "timestamp    10\n",
              "dtype: int64"
            ]
          },
          "metadata": {
            "tags": []
          },
          "execution_count": 6
        }
      ]
    },
    {
      "cell_type": "code",
      "metadata": {
        "id": "KTVQtvpm8lE7"
      },
      "source": [
        "user_purchase= user_purchase.dropna()"
      ],
      "execution_count": 7,
      "outputs": []
    },
    {
      "cell_type": "code",
      "metadata": {
        "colab": {
          "base_uri": "https://localhost:8080/"
        },
        "id": "9pCtLaBN8ph0",
        "outputId": "91913bc3-3340-48d4-a478-dfbfb101a603"
      },
      "source": [
        "user_purchase.isnull().sum()"
      ],
      "execution_count": 8,
      "outputs": [
        {
          "output_type": "execute_result",
          "data": {
            "text/plain": [
              "user_id      0\n",
              "item_id      0\n",
              "price        0\n",
              "timestamp    0\n",
              "dtype: int64"
            ]
          },
          "metadata": {
            "tags": []
          },
          "execution_count": 8
        }
      ]
    },
    {
      "cell_type": "code",
      "metadata": {
        "colab": {
          "base_uri": "https://localhost:8080/",
          "height": 204
        },
        "id": "dumT7RREy9CR",
        "outputId": "0ac54b96-7ce9-4526-f72e-66ae2630e6ca"
      },
      "source": [
        "# 아이템명 바꾸기\n",
        "user_purchase['item_id'] = user_purchase['item_id']. replace (['item01'],'01')\n",
        "user_purchase['item_id'] = user_purchase['item_id']. replace (['item02'],'02')\n",
        "user_purchase['item_id'] = user_purchase['item_id']. replace (['item03'],'03')\n",
        "user_purchase['item_id'] = user_purchase['item_id']. replace (['item04'],'04')\n",
        "user_purchase['item_id'] = user_purchase['item_id']. replace (['item05'],'05')\n",
        "user_purchase['item_id'] = user_purchase['item_id']. replace (['item06'],'06')\n",
        "user_purchase['item_id'] = user_purchase['item_id']. replace (['item07'],'07')\n",
        "user_purchase['item_id'] = user_purchase['item_id']. replace (['item08'],'08')\n",
        "user_purchase['item_id'] = user_purchase['item_id']. replace (['item09'],'09')\n",
        "user_purchase['item_id'] = user_purchase['item_id']. replace (['item10'],'10')\n",
        "\n",
        "user_purchase.head()"
      ],
      "execution_count": 9,
      "outputs": [
        {
          "output_type": "execute_result",
          "data": {
            "text/html": [
              "<div>\n",
              "<style scoped>\n",
              "    .dataframe tbody tr th:only-of-type {\n",
              "        vertical-align: middle;\n",
              "    }\n",
              "\n",
              "    .dataframe tbody tr th {\n",
              "        vertical-align: top;\n",
              "    }\n",
              "\n",
              "    .dataframe thead th {\n",
              "        text-align: right;\n",
              "    }\n",
              "</style>\n",
              "<table border=\"1\" class=\"dataframe\">\n",
              "  <thead>\n",
              "    <tr style=\"text-align: right;\">\n",
              "      <th></th>\n",
              "      <th>user_id</th>\n",
              "      <th>item_id</th>\n",
              "      <th>price</th>\n",
              "      <th>timestamp</th>\n",
              "    </tr>\n",
              "  </thead>\n",
              "  <tbody>\n",
              "    <tr>\n",
              "      <th>0</th>\n",
              "      <td>u00934</td>\n",
              "      <td>03</td>\n",
              "      <td>100.0</td>\n",
              "      <td>2020-09-30 19:11:22</td>\n",
              "    </tr>\n",
              "    <tr>\n",
              "      <th>1</th>\n",
              "      <td>u00934</td>\n",
              "      <td>04</td>\n",
              "      <td>100.0</td>\n",
              "      <td>2020-09-30 19:11:22</td>\n",
              "    </tr>\n",
              "    <tr>\n",
              "      <th>2</th>\n",
              "      <td>u00934</td>\n",
              "      <td>05</td>\n",
              "      <td>100.0</td>\n",
              "      <td>2020-09-30 19:11:22</td>\n",
              "    </tr>\n",
              "    <tr>\n",
              "      <th>3</th>\n",
              "      <td>u01865</td>\n",
              "      <td>02</td>\n",
              "      <td>100.0</td>\n",
              "      <td>2020-09-30 20:14:21</td>\n",
              "    </tr>\n",
              "    <tr>\n",
              "      <th>4</th>\n",
              "      <td>u01865</td>\n",
              "      <td>04</td>\n",
              "      <td>100.0</td>\n",
              "      <td>2020-09-30 20:14:21</td>\n",
              "    </tr>\n",
              "  </tbody>\n",
              "</table>\n",
              "</div>"
            ],
            "text/plain": [
              "  user_id item_id  price           timestamp\n",
              "0  u00934      03  100.0 2020-09-30 19:11:22\n",
              "1  u00934      04  100.0 2020-09-30 19:11:22\n",
              "2  u00934      05  100.0 2020-09-30 19:11:22\n",
              "3  u01865      02  100.0 2020-09-30 20:14:21\n",
              "4  u01865      04  100.0 2020-09-30 20:14:21"
            ]
          },
          "metadata": {
            "tags": []
          },
          "execution_count": 9
        }
      ]
    },
    {
      "cell_type": "code",
      "metadata": {
        "colab": {
          "base_uri": "https://localhost:8080/"
        },
        "id": "Zy0lLvrvE3xo",
        "outputId": "144f8f8c-e770-4c33-b1b7-2295e1416677"
      },
      "source": [
        "item_counts = user_purchase['item_id'].value_counts()\n",
        "item_counts"
      ],
      "execution_count": 10,
      "outputs": [
        {
          "output_type": "execute_result",
          "data": {
            "text/plain": [
              "03    193\n",
              "05    180\n",
              "01    179\n",
              "02    178\n",
              "04    158\n",
              "06     15\n",
              "10     12\n",
              "08     10\n",
              "09     10\n",
              "07      8\n",
              "Name: item_id, dtype: int64"
            ]
          },
          "metadata": {
            "tags": []
          },
          "execution_count": 10
        }
      ]
    },
    {
      "cell_type": "code",
      "metadata": {
        "colab": {
          "base_uri": "https://localhost:8080/",
          "height": 280
        },
        "id": "0OaCMQE3FZH_",
        "outputId": "a7de67c6-d163-457a-cab1-9279f7a312fb"
      },
      "source": [
        "item_counts = user_purchase['item_id'].value_counts()\n",
        "sns.set_palette(\"pastel\")\n",
        "sns.barplot(x=item_counts.index, y=item_counts)\n",
        "plt.xlabel('Item ID', fontsize=10)\n",
        "plt.ylabel('Qty', fontsize=10)\n",
        "plt.show()"
      ],
      "execution_count": 11,
      "outputs": [
        {
          "output_type": "display_data",
          "data": {
            "image/png": "[encoded data removed]",
            "text/plain": [
              "<Figure size 432x288 with 1 Axes>"
            ]
          },
          "metadata": {
            "tags": [],
            "needs_background": "light"
          }
        }
      ]
    },
    {
      "cell_type": "code",
      "metadata": {
        "colab": {
          "base_uri": "https://localhost:8080/"
        },
        "id": "E8XXjT0bHHwV",
        "outputId": "66556f43-529a-4ef1-8177-abfeb53db12a"
      },
      "source": [
        "# multi-purchase\n",
        "multi_purchase = user_purchase['user_id'].value_counts() >1\n",
        "multi_purchase.value_counts()"
      ],
      "execution_count": 12,
      "outputs": [
        {
          "output_type": "execute_result",
          "data": {
            "text/plain": [
              "True     318\n",
              "False    148\n",
              "Name: user_id, dtype: int64"
            ]
          },
          "metadata": {
            "tags": []
          },
          "execution_count": 12
        }
      ]
    },
    {
      "cell_type": "code",
      "metadata": {
        "colab": {
          "base_uri": "https://localhost:8080/",
          "height": 248
        },
        "id": "B-M5Jw9xQU_X",
        "outputId": "94f71ee1-c908-44b3-dd03-1770c07ee793"
      },
      "source": [
        "ratio = [318, 148]\n",
        "labels = ['multi_purchase', 'single_purchase']\n",
        "colors = ['aquamarine', 'dodgerblue']\n",
        "\n",
        "plt.pie(ratio, labels=labels, autopct='%.1f%%', colors=colors)\n",
        "plt.show()"
      ],
      "execution_count": 13,
      "outputs": [
        {
          "output_type": "display_data",
          "data": {
            "image/png": "[encoded data removed]",
            "text/plain": [
              "<Figure size 432x288 with 1 Axes>"
            ]
          },
          "metadata": {
            "tags": []
          }
        }
      ]
    },
    {
      "cell_type": "markdown",
      "metadata": {
        "id": "QkD9dF8mBJtQ"
      },
      "source": [
        "**Visit**"
      ]
    },
    {
      "cell_type": "code",
      "metadata": {
        "colab": {
          "base_uri": "https://localhost:8080/",
          "height": 204
        },
        "id": "8EgHTfJQCbiW",
        "outputId": "1781afc3-c690-4ab1-bfa6-33b3a4686830"
      },
      "source": [
        "user_visit.head()"
      ],
      "execution_count": 14,
      "outputs": [
        {
          "output_type": "execute_result",
          "data": {
            "text/html": [
              "<div>\n",
              "<style scoped>\n",
              "    .dataframe tbody tr th:only-of-type {\n",
              "        vertical-align: middle;\n",
              "    }\n",
              "\n",
              "    .dataframe tbody tr th {\n",
              "        vertical-align: top;\n",
              "    }\n",
              "\n",
              "    .dataframe thead th {\n",
              "        text-align: right;\n",
              "    }\n",
              "</style>\n",
              "<table border=\"1\" class=\"dataframe\">\n",
              "  <thead>\n",
              "    <tr style=\"text-align: right;\">\n",
              "      <th></th>\n",
              "      <th>user_id</th>\n",
              "      <th>referrer</th>\n",
              "      <th>timestamp</th>\n",
              "    </tr>\n",
              "  </thead>\n",
              "  <tbody>\n",
              "    <tr>\n",
              "      <th>0</th>\n",
              "      <td>u01319</td>\n",
              "      <td>search</td>\n",
              "      <td>2020-09-30 18:38:10</td>\n",
              "    </tr>\n",
              "    <tr>\n",
              "      <th>1</th>\n",
              "      <td>u00241</td>\n",
              "      <td>app</td>\n",
              "      <td>2020-09-30 18:52:22</td>\n",
              "    </tr>\n",
              "    <tr>\n",
              "      <th>2</th>\n",
              "      <td>u00633</td>\n",
              "      <td>app</td>\n",
              "      <td>2020-09-30 18:58:11</td>\n",
              "    </tr>\n",
              "    <tr>\n",
              "      <th>3</th>\n",
              "      <td>u00088</td>\n",
              "      <td>app</td>\n",
              "      <td>2020-09-30 18:58:17</td>\n",
              "    </tr>\n",
              "    <tr>\n",
              "      <th>4</th>\n",
              "      <td>u00934</td>\n",
              "      <td>search</td>\n",
              "      <td>2020-09-30 19:02:23</td>\n",
              "    </tr>\n",
              "  </tbody>\n",
              "</table>\n",
              "</div>"
            ],
            "text/plain": [
              "  user_id referrer           timestamp\n",
              "0  u01319   search 2020-09-30 18:38:10\n",
              "1  u00241      app 2020-09-30 18:52:22\n",
              "2  u00633      app 2020-09-30 18:58:11\n",
              "3  u00088      app 2020-09-30 18:58:17\n",
              "4  u00934   search 2020-09-30 19:02:23"
            ]
          },
          "metadata": {
            "tags": []
          },
          "execution_count": 14
        }
      ]
    },
    {
      "cell_type": "code",
      "metadata": {
        "colab": {
          "base_uri": "https://localhost:8080/"
        },
        "id": "B_sOuITVCps0",
        "outputId": "a701e25a-88f8-459b-9267-19d56ea23d79"
      },
      "source": [
        "# delete row with missing values\n",
        "user_visit.isnull().sum()"
      ],
      "execution_count": 15,
      "outputs": [
        {
          "output_type": "execute_result",
          "data": {
            "text/plain": [
              "user_id      0\n",
              "referrer     0\n",
              "timestamp    0\n",
              "dtype: int64"
            ]
          },
          "metadata": {
            "tags": []
          },
          "execution_count": 15
        }
      ]
    },
    {
      "cell_type": "code",
      "metadata": {
        "colab": {
          "base_uri": "https://localhost:8080/",
          "height": 299
        },
        "id": "fUEjpF4lC7Vl",
        "outputId": "63d2433e-3ca1-4c66-a907-d41862b24f53"
      },
      "source": [
        "referrer = user_visit['referrer'].value_counts()\n",
        "sns.set_palette(\"muted\")\n",
        "sns.barplot(x=referrer.index, y=referrer)\n",
        "plt.xlabel('Channel', fontsize=13)\n",
        "plt.ylabel('Count', fontsize=13)\n",
        "plt.legend()\n",
        "plt.show()"
      ],
      "execution_count": 16,
      "outputs": [
        {
          "output_type": "stream",
          "text": [
            "No handles with labels found to put in legend.\n"
          ],
          "name": "stderr"
        },
        {
          "output_type": "display_data",
          "data": {
            "image/png": "[encoded data removed]",
            "text/plain": [
              "<Figure size 432x288 with 1 Axes>"
            ]
          },
          "metadata": {
            "tags": [],
            "needs_background": "light"
          }
        }
      ]
    },
    {
      "cell_type": "code",
      "metadata": {
        "colab": {
          "base_uri": "https://localhost:8080/"
        },
        "id": "seOozsiWCfUL",
        "outputId": "19e50e54-ff1e-4e6b-8981-c204d6ef4b6f"
      },
      "source": [
        "# 방문자수\n",
        "user_visit['user_id'].count()"
      ],
      "execution_count": 17,
      "outputs": [
        {
          "output_type": "execute_result",
          "data": {
            "text/plain": [
              "1906"
            ]
          },
          "metadata": {
            "tags": []
          },
          "execution_count": 17
        }
      ]
    },
    {
      "cell_type": "code",
      "metadata": {
        "colab": {
          "base_uri": "https://localhost:8080/"
        },
        "id": "LHToMuZJCh8J",
        "outputId": "a2824b64-6545-438c-acea-26fbb9296d56"
      },
      "source": [
        "# 구입자수\n",
        "user_purchase.drop_duplicates(\"user_id\", keep=\"first\").count()"
      ],
      "execution_count": 18,
      "outputs": [
        {
          "output_type": "execute_result",
          "data": {
            "text/plain": [
              "user_id      466\n",
              "item_id      466\n",
              "price        466\n",
              "timestamp    466\n",
              "dtype: int64"
            ]
          },
          "metadata": {
            "tags": []
          },
          "execution_count": 18
        }
      ]
    },
    {
      "cell_type": "code",
      "metadata": {
        "colab": {
          "base_uri": "https://localhost:8080/",
          "height": 248
        },
        "id": "yLr0pC4WFBmF",
        "outputId": "523cf8d7-9e03-4487-b2e9-f9a1f1e0064b"
      },
      "source": [
        "ratio = [1906, 466]\n",
        "labels = ['visit', 'purchase']\n",
        "colors = ['aquamarine', 'dodgerblue']\n",
        "\n",
        "plt.pie(ratio, labels=labels, autopct='%.1f%%', colors=colors)\n",
        "plt.show()"
      ],
      "execution_count": 36,
      "outputs": [
        {
          "output_type": "display_data",
          "data": {
            "image/png": "[encoded data removed]",
            "text/plain": [
              "<Figure size 432x288 with 1 Axes>"
            ]
          },
          "metadata": {
            "tags": []
          }
        }
      ]
    },
    {
      "cell_type": "code",
      "metadata": {
        "colab": {
          "base_uri": "https://localhost:8080/"
        },
        "id": "SCauZ4QOFtIa",
        "outputId": "3c89990d-e1da-4a2d-89de-d554d370f269"
      },
      "source": [
        "# 구입자들의 유입경로\n",
        "\n",
        "purchased_user = user_purchase.drop_duplicates(\"user_id\", keep=\"first\").user_id.values\n",
        "purchased_user\n"
      ],
      "execution_count": 20,
      "outputs": [
        {
          "output_type": "execute_result",
          "data": {
            "text/plain": [
              "array(['u00934', 'u01865', 'u00615', 'u00824', 'u00654', 'u01101',\n",
              "       'u00801', 'u01662', 'u00625', 'u01624', 'u01880', 'u00011',\n",
              "       'u01960', 'u01451', 'u00255', 'u01458', 'u01253', 'u00070',\n",
              "       'u00275', 'u01331', 'u00387', 'u00559', 'u01096', 'u01768',\n",
              "       'u01248', 'u00761', 'u01180', 'u00664', 'u00368', 'u00938',\n",
              "       'u01818', 'u01258', 'u01031', 'u01851', 'u01685', 'u00491',\n",
              "       'u01099', 'u00141', 'u01282', 'u00537', 'u01316', 'u01054',\n",
              "       'u01450', 'u01227', 'u01825', 'u00059', 'u01203', 'u00001',\n",
              "       'u01375', 'u00065', 'u01576', 'u01723', 'u01512', 'u01696',\n",
              "       'u01573', 'u00946', 'u00247', 'u01314', 'u01157', 'u00209',\n",
              "       'u00347', 'u01508', 'u01680', 'u01588', 'u00616', 'u01570',\n",
              "       'u00878', 'u01480', 'u01975', 'u00446', 'u01184', 'u01194',\n",
              "       'u01616', 'u00223', 'u00668', 'u00416', 'u00155', 'u01257',\n",
              "       'u00071', 'u01962', 'u01446', 'u01718', 'u01071', 'u00670',\n",
              "       'u01453', 'u00774', 'u01002', 'u00119', 'u01489', 'u01177',\n",
              "       'u00660', 'u00067', 'u01147', 'u00372', 'u01660', 'u01339',\n",
              "       'u01468', 'u01839', 'u00099', 'u01619', 'u00479', 'u00218',\n",
              "       'u01005', 'u00857', 'u01952', 'u00198', 'u00830', 'u00840',\n",
              "       'u00324', 'u01284', 'u00270', 'u00542', 'u00742', 'u01909',\n",
              "       'u01972', 'u01097', 'u00641', 'u01537', 'u00573', 'u00741',\n",
              "       'u00965', 'u00897', 'u01191', 'u01428', 'u00200', 'u00157',\n",
              "       'u00085', 'u00399', 'u01192', 'u00715', 'u01204', 'u01389',\n",
              "       'u00744', 'u00948', 'u01603', 'u00766', 'u00609', 'u00498',\n",
              "       'u01879', 'u00132', 'u01973', 'u00848', 'u01209', 'u01891',\n",
              "       'u01084', 'u01948', 'u01615', 'u00049', 'u01731', 'u01070',\n",
              "       'u01014', 'u01350', 'u01011', 'u01351', 'u01651', 'u00808',\n",
              "       'u00773', 'u01914', 'u01459', 'u00655', 'u01317', 'u00289',\n",
              "       'u00751', 'u01150', 'u00488', 'u01620', 'u00884', 'u01734',\n",
              "       'u01110', 'u01841', 'u01455', 'u00933', 'u00610', 'u00328',\n",
              "       'u00598', 'u00221', 'u00755', 'u01182', 'u01732', 'u01447',\n",
              "       'u00915', 'u00889', 'u01053', 'u01966', 'u01041', 'u01328',\n",
              "       'u00702', 'u01594', 'u00348', 'u01911', 'u00144', 'u01717',\n",
              "       'u01897', 'u00989', 'u00936', 'u00054', 'u01735', 'u00731',\n",
              "       'u01862', 'u01697', 'u01310', 'u00987', 'u01984', 'u00779',\n",
              "       'u01895', 'u01046', 'u00544', 'u00658', 'u00853', 'u00992',\n",
              "       'u00998', 'u01503', 'u00907', 'u00975', 'u00212', 'u00358',\n",
              "       'u01789', 'u01533', 'u01930', 'u00034', 'u00885', 'u00552',\n",
              "       'u01689', 'u00456', 'u01259', 'u01369', 'u00252', 'u00804',\n",
              "       'u00112', 'u01075', 'u01536', 'u01364', 'u00991', 'u01950',\n",
              "       'u00551', 'u00161', 'u01981', 'u00424', 'u00734', 'u00683',\n",
              "       'u01687', 'u00703', 'u00802', 'u01223', 'u00953', 'u00205',\n",
              "       'u00747', 'u00153', 'u00126', 'u01871', 'u01753', 'u00532',\n",
              "       'u01675', 'u00449', 'u00180', 'u00505', 'u01385', 'u00540',\n",
              "       'u01957', 'u00062', 'u00417', 'u00931', 'u00402', 'u01814',\n",
              "       'u00847', 'u00895', 'u01281', 'u01805', 'u00701', 'u00138',\n",
              "       'u01543', 'u00042', 'u00720', 'u01628', 'u01431', 'u01126',\n",
              "       'u01412', 'u00618', 'u00190', 'u00139', 'u01185', 'u01360',\n",
              "       'u01853', 'u01639', 'u00750', 'u00181', 'u00587', 'u01955',\n",
              "       'u00472', 'u00235', 'u01202', 'u00386', 'u01559', 'u00444',\n",
              "       'u01498', 'u01242', 'u01434', 'u00278', 'u00539', 'u00111',\n",
              "       'u01528', 'u00305', 'u00697', 'u01247', 'u01348', 'u01283',\n",
              "       'u00768', 'u01763', 'u00172', 'u00612', 'u01153', 'u01571',\n",
              "       'u01013', 'u00545', 'u01776', 'u00470', 'u00244', 'u01426',\n",
              "       'u01602', 'u00466', 'u01792', 'u01579', 'u01413', 'u01511',\n",
              "       'u01395', 'u01347', 'u00972', 'u00861', 'u01189', 'u01772',\n",
              "       'u00865', 'u01967', 'u01049', 'u00128', 'u00892', 'u01047',\n",
              "       'u01589', 'u01761', 'u01813', 'u00810', 'u01702', 'u00213',\n",
              "       'u00256', 'u00079', 'u00855', 'u00684', 'u01323', 'u00647',\n",
              "       'u01822', 'u00009', 'u01788', 'u00163', 'u00299', 'u01349',\n",
              "       'u01836', 'u01043', 'u00184', 'u00828', 'u00262', 'u00772',\n",
              "       'u01745', 'u01698', 'u00944', 'u01545', 'u00769', 'u01214',\n",
              "       'u01626', 'u01196', 'u00405', 'u00463', 'u00076', 'u01471',\n",
              "       'u00688', 'u01295', 'u01356', 'u00257', 'u00152', 'u00459',\n",
              "       'u01686', 'u00529', 'u00902', 'u00469', 'u00013', 'u00325',\n",
              "       'u01090', 'u00856', 'u00490', 'u01130', 'u01386', 'u00351',\n",
              "       'u00682', 'u00569', 'u00291', 'u00579', 'u01942', 'u01472',\n",
              "       'u00785', 'u01521', 'u01289', 'u01488', 'u00409', 'u00778',\n",
              "       'u00271', 'u01115', 'u01022', 'u01025', 'u00674', 'u01037',\n",
              "       'u00789', 'u01038', 'u00021', 'u00248', 'u00485', 'u01823',\n",
              "       'u01614', 'u01663', 'u01935', 'u00893', 'u01843', 'u01419',\n",
              "       'u00959', 'u01993', 'u00053', 'u01186', 'u01580', 'u00794',\n",
              "       'u00809', 'u01509', 'u00596', 'u00410', 'u00337', 'u01359',\n",
              "       'u01040', 'u01018', 'u00102', 'u01572', 'u01409', 'u01751',\n",
              "       'u01137', 'u01659', 'u00228', 'u00091', 'u01026', 'u01291',\n",
              "       'u00604', 'u00280', 'u00775', 'u00066', 'u01495', 'u01001',\n",
              "       'u00298', 'u00311', 'u01652', 'u01729', 'u01298', 'u01699',\n",
              "       'u00958', 'u00782', 'u01764', 'u00044', 'u01591', 'u00930',\n",
              "       'u01499', 'u01644', 'u00646', 'u01254'], dtype=object)"
            ]
          },
          "metadata": {
            "tags": []
          },
          "execution_count": 20
        }
      ]
    },
    {
      "cell_type": "code",
      "metadata": {
        "colab": {
          "base_uri": "https://localhost:8080/"
        },
        "id": "H09kItZ3HpR_",
        "outputId": "8a2d9d63-7012-4986-d3ca-4e2e74d887af"
      },
      "source": [
        "purchased_user = user_visit['user_id'].isin(purchased_user)\n",
        "purchased_user"
      ],
      "execution_count": 21,
      "outputs": [
        {
          "output_type": "execute_result",
          "data": {
            "text/plain": [
              "0       False\n",
              "1       False\n",
              "2       False\n",
              "3       False\n",
              "4        True\n",
              "        ...  \n",
              "1901     True\n",
              "1902    False\n",
              "1903    False\n",
              "1904    False\n",
              "1905    False\n",
              "Name: user_id, Length: 1906, dtype: bool"
            ]
          },
          "metadata": {
            "tags": []
          },
          "execution_count": 21
        }
      ]
    },
    {
      "cell_type": "code",
      "metadata": {
        "colab": {
          "base_uri": "https://localhost:8080/",
          "height": 514
        },
        "id": "3XrC1yd9Rqsi",
        "outputId": "419afcae-5086-4b88-c623-184953ed2d87"
      },
      "source": [
        "user_visit['purchased'] = purchased_user.values\n",
        "user_visit.head(15)"
      ],
      "execution_count": 22,
      "outputs": [
        {
          "output_type": "execute_result",
          "data": {
            "text/html": [
              "<div>\n",
              "<style scoped>\n",
              "    .dataframe tbody tr th:only-of-type {\n",
              "        vertical-align: middle;\n",
              "    }\n",
              "\n",
              "    .dataframe tbody tr th {\n",
              "        vertical-align: top;\n",
              "    }\n",
              "\n",
              "    .dataframe thead th {\n",
              "        text-align: right;\n",
              "    }\n",
              "</style>\n",
              "<table border=\"1\" class=\"dataframe\">\n",
              "  <thead>\n",
              "    <tr style=\"text-align: right;\">\n",
              "      <th></th>\n",
              "      <th>user_id</th>\n",
              "      <th>referrer</th>\n",
              "      <th>timestamp</th>\n",
              "      <th>purchased</th>\n",
              "    </tr>\n",
              "  </thead>\n",
              "  <tbody>\n",
              "    <tr>\n",
              "      <th>0</th>\n",
              "      <td>u01319</td>\n",
              "      <td>search</td>\n",
              "      <td>2020-09-30 18:38:10</td>\n",
              "      <td>False</td>\n",
              "    </tr>\n",
              "    <tr>\n",
              "      <th>1</th>\n",
              "      <td>u00241</td>\n",
              "      <td>app</td>\n",
              "      <td>2020-09-30 18:52:22</td>\n",
              "      <td>False</td>\n",
              "    </tr>\n",
              "    <tr>\n",
              "      <th>2</th>\n",
              "      <td>u00633</td>\n",
              "      <td>app</td>\n",
              "      <td>2020-09-30 18:58:11</td>\n",
              "      <td>False</td>\n",
              "    </tr>\n",
              "    <tr>\n",
              "      <th>3</th>\n",
              "      <td>u00088</td>\n",
              "      <td>app</td>\n",
              "      <td>2020-09-30 18:58:17</td>\n",
              "      <td>False</td>\n",
              "    </tr>\n",
              "    <tr>\n",
              "      <th>4</th>\n",
              "      <td>u00934</td>\n",
              "      <td>search</td>\n",
              "      <td>2020-09-30 19:02:23</td>\n",
              "      <td>True</td>\n",
              "    </tr>\n",
              "    <tr>\n",
              "      <th>5</th>\n",
              "      <td>u00652</td>\n",
              "      <td>search</td>\n",
              "      <td>2020-09-30 19:20:52</td>\n",
              "      <td>False</td>\n",
              "    </tr>\n",
              "    <tr>\n",
              "      <th>6</th>\n",
              "      <td>u01746</td>\n",
              "      <td>ad</td>\n",
              "      <td>2020-09-30 19:25:10</td>\n",
              "      <td>False</td>\n",
              "    </tr>\n",
              "    <tr>\n",
              "      <th>7</th>\n",
              "      <td>u00465</td>\n",
              "      <td>app</td>\n",
              "      <td>2020-09-30 19:25:33</td>\n",
              "      <td>False</td>\n",
              "    </tr>\n",
              "    <tr>\n",
              "      <th>8</th>\n",
              "      <td>u01113</td>\n",
              "      <td>app</td>\n",
              "      <td>2020-09-30 19:33:28</td>\n",
              "      <td>False</td>\n",
              "    </tr>\n",
              "    <tr>\n",
              "      <th>9</th>\n",
              "      <td>u01994</td>\n",
              "      <td>search</td>\n",
              "      <td>2020-09-30 19:35:16</td>\n",
              "      <td>False</td>\n",
              "    </tr>\n",
              "    <tr>\n",
              "      <th>10</th>\n",
              "      <td>u00850</td>\n",
              "      <td>search</td>\n",
              "      <td>2020-09-30 19:36:42</td>\n",
              "      <td>False</td>\n",
              "    </tr>\n",
              "    <tr>\n",
              "      <th>11</th>\n",
              "      <td>u01785</td>\n",
              "      <td>ad</td>\n",
              "      <td>2020-09-30 19:42:44</td>\n",
              "      <td>False</td>\n",
              "    </tr>\n",
              "    <tr>\n",
              "      <th>12</th>\n",
              "      <td>u01996</td>\n",
              "      <td>search</td>\n",
              "      <td>2020-09-30 19:46:40</td>\n",
              "      <td>False</td>\n",
              "    </tr>\n",
              "    <tr>\n",
              "      <th>13</th>\n",
              "      <td>u00369</td>\n",
              "      <td>ad</td>\n",
              "      <td>2020-09-30 19:48:09</td>\n",
              "      <td>False</td>\n",
              "    </tr>\n",
              "    <tr>\n",
              "      <th>14</th>\n",
              "      <td>u01544</td>\n",
              "      <td>search</td>\n",
              "      <td>2020-09-30 19:48:11</td>\n",
              "      <td>False</td>\n",
              "    </tr>\n",
              "  </tbody>\n",
              "</table>\n",
              "</div>"
            ],
            "text/plain": [
              "   user_id referrer           timestamp  purchased\n",
              "0   u01319   search 2020-09-30 18:38:10      False\n",
              "1   u00241      app 2020-09-30 18:52:22      False\n",
              "2   u00633      app 2020-09-30 18:58:11      False\n",
              "3   u00088      app 2020-09-30 18:58:17      False\n",
              "4   u00934   search 2020-09-30 19:02:23       True\n",
              "5   u00652   search 2020-09-30 19:20:52      False\n",
              "6   u01746       ad 2020-09-30 19:25:10      False\n",
              "7   u00465      app 2020-09-30 19:25:33      False\n",
              "8   u01113      app 2020-09-30 19:33:28      False\n",
              "9   u01994   search 2020-09-30 19:35:16      False\n",
              "10  u00850   search 2020-09-30 19:36:42      False\n",
              "11  u01785       ad 2020-09-30 19:42:44      False\n",
              "12  u01996   search 2020-09-30 19:46:40      False\n",
              "13  u00369       ad 2020-09-30 19:48:09      False\n",
              "14  u01544   search 2020-09-30 19:48:11      False"
            ]
          },
          "metadata": {
            "tags": []
          },
          "execution_count": 22
        }
      ]
    },
    {
      "cell_type": "code",
      "metadata": {
        "colab": {
          "base_uri": "https://localhost:8080/",
          "height": 419
        },
        "id": "Qur2bL9OTBJm",
        "outputId": "aa3496bb-2461-4e4d-f6f9-0a30d9f4eb8e"
      },
      "source": [
        "purchased_user_list = user_visit[user_visit['purchased'] == True]\n",
        "purchased_user_list"
      ],
      "execution_count": 23,
      "outputs": [
        {
          "output_type": "execute_result",
          "data": {
            "text/html": [
              "<div>\n",
              "<style scoped>\n",
              "    .dataframe tbody tr th:only-of-type {\n",
              "        vertical-align: middle;\n",
              "    }\n",
              "\n",
              "    .dataframe tbody tr th {\n",
              "        vertical-align: top;\n",
              "    }\n",
              "\n",
              "    .dataframe thead th {\n",
              "        text-align: right;\n",
              "    }\n",
              "</style>\n",
              "<table border=\"1\" class=\"dataframe\">\n",
              "  <thead>\n",
              "    <tr style=\"text-align: right;\">\n",
              "      <th></th>\n",
              "      <th>user_id</th>\n",
              "      <th>referrer</th>\n",
              "      <th>timestamp</th>\n",
              "      <th>purchased</th>\n",
              "    </tr>\n",
              "  </thead>\n",
              "  <tbody>\n",
              "    <tr>\n",
              "      <th>4</th>\n",
              "      <td>u00934</td>\n",
              "      <td>search</td>\n",
              "      <td>2020-09-30 19:02:23</td>\n",
              "      <td>True</td>\n",
              "    </tr>\n",
              "    <tr>\n",
              "      <th>17</th>\n",
              "      <td>u01865</td>\n",
              "      <td>app</td>\n",
              "      <td>2020-09-30 20:00:02</td>\n",
              "      <td>True</td>\n",
              "    </tr>\n",
              "    <tr>\n",
              "      <th>28</th>\n",
              "      <td>u00615</td>\n",
              "      <td>ad</td>\n",
              "      <td>2020-09-30 20:32:10</td>\n",
              "      <td>True</td>\n",
              "    </tr>\n",
              "    <tr>\n",
              "      <th>31</th>\n",
              "      <td>u00824</td>\n",
              "      <td>app</td>\n",
              "      <td>2020-09-30 20:35:10</td>\n",
              "      <td>True</td>\n",
              "    </tr>\n",
              "    <tr>\n",
              "      <th>42</th>\n",
              "      <td>u00654</td>\n",
              "      <td>app</td>\n",
              "      <td>2020-09-30 21:05:19</td>\n",
              "      <td>True</td>\n",
              "    </tr>\n",
              "    <tr>\n",
              "      <th>...</th>\n",
              "      <td>...</td>\n",
              "      <td>...</td>\n",
              "      <td>...</td>\n",
              "      <td>...</td>\n",
              "    </tr>\n",
              "    <tr>\n",
              "      <th>1883</th>\n",
              "      <td>u00930</td>\n",
              "      <td>app</td>\n",
              "      <td>2020-10-01 22:14:03</td>\n",
              "      <td>True</td>\n",
              "    </tr>\n",
              "    <tr>\n",
              "      <th>1887</th>\n",
              "      <td>u01499</td>\n",
              "      <td>ad</td>\n",
              "      <td>2020-10-01 22:21:46</td>\n",
              "      <td>True</td>\n",
              "    </tr>\n",
              "    <tr>\n",
              "      <th>1893</th>\n",
              "      <td>u01644</td>\n",
              "      <td>app</td>\n",
              "      <td>2020-10-01 22:30:05</td>\n",
              "      <td>True</td>\n",
              "    </tr>\n",
              "    <tr>\n",
              "      <th>1900</th>\n",
              "      <td>u00646</td>\n",
              "      <td>app</td>\n",
              "      <td>2020-10-01 23:11:55</td>\n",
              "      <td>True</td>\n",
              "    </tr>\n",
              "    <tr>\n",
              "      <th>1901</th>\n",
              "      <td>u01254</td>\n",
              "      <td>ad</td>\n",
              "      <td>2020-10-01 23:15:08</td>\n",
              "      <td>True</td>\n",
              "    </tr>\n",
              "  </tbody>\n",
              "</table>\n",
              "<p>466 rows × 4 columns</p>\n",
              "</div>"
            ],
            "text/plain": [
              "     user_id referrer           timestamp  purchased\n",
              "4     u00934   search 2020-09-30 19:02:23       True\n",
              "17    u01865      app 2020-09-30 20:00:02       True\n",
              "28    u00615       ad 2020-09-30 20:32:10       True\n",
              "31    u00824      app 2020-09-30 20:35:10       True\n",
              "42    u00654      app 2020-09-30 21:05:19       True\n",
              "...      ...      ...                 ...        ...\n",
              "1883  u00930      app 2020-10-01 22:14:03       True\n",
              "1887  u01499       ad 2020-10-01 22:21:46       True\n",
              "1893  u01644      app 2020-10-01 22:30:05       True\n",
              "1900  u00646      app 2020-10-01 23:11:55       True\n",
              "1901  u01254       ad 2020-10-01 23:15:08       True\n",
              "\n",
              "[466 rows x 4 columns]"
            ]
          },
          "metadata": {
            "tags": []
          },
          "execution_count": 23
        }
      ]
    },
    {
      "cell_type": "code",
      "metadata": {
        "colab": {
          "base_uri": "https://localhost:8080/"
        },
        "id": "d9IbIe2NV-4r",
        "outputId": "c667b0ae-fcef-4cb8-dcb5-4d1b863c3fd4"
      },
      "source": [
        "referrer = purchased_user_list['referrer'].value_counts()\n",
        "referrer"
      ],
      "execution_count": 24,
      "outputs": [
        {
          "output_type": "execute_result",
          "data": {
            "text/plain": [
              "app       254\n",
              "search    178\n",
              "ad         34\n",
              "Name: referrer, dtype: int64"
            ]
          },
          "metadata": {
            "tags": []
          },
          "execution_count": 24
        }
      ]
    },
    {
      "cell_type": "code",
      "metadata": {
        "colab": {
          "base_uri": "https://localhost:8080/"
        },
        "id": "637hvmusYQ60",
        "outputId": "0b3c5f61-2b5a-428d-b86a-494c9b4f2399"
      },
      "source": [
        "user_visit['referrer'].value_counts()"
      ],
      "execution_count": 25,
      "outputs": [
        {
          "output_type": "execute_result",
          "data": {
            "text/plain": [
              "app       997\n",
              "search    521\n",
              "ad        388\n",
              "Name: referrer, dtype: int64"
            ]
          },
          "metadata": {
            "tags": []
          },
          "execution_count": 25
        }
      ]
    },
    {
      "cell_type": "code",
      "metadata": {
        "colab": {
          "base_uri": "https://localhost:8080/",
          "height": 265
        },
        "id": "JbSk3jRLWfUJ",
        "outputId": "38896b7b-fec0-4351-cc08-362cf3d5ccba"
      },
      "source": [
        "x = ['app', 'search', 'ad']\n",
        "visit = [997, 521, 388]\n",
        "purchase = [254, 178, 34]\n",
        "plt.bar(x, visit, color='aquamarine', label='visit')\n",
        "plt.bar(x, purchase, color='dodgerblue', label='purchase')\n",
        "plt.legend()\n",
        "plt.show()"
      ],
      "execution_count": 26,
      "outputs": [
        {
          "output_type": "display_data",
          "data": {
            "image/png": "[encoded data removed]",
            "text/plain": [
              "<Figure size 432x288 with 1 Axes>"
            ]
          },
          "metadata": {
            "tags": [],
            "needs_background": "light"
          }
        }
      ]
    },
    {
      "cell_type": "code",
      "metadata": {
        "colab": {
          "base_uri": "https://localhost:8080/",
          "height": 248
        },
        "id": "Xbn4DbWtY5u2",
        "outputId": "2457321f-09ef-4378-c9c3-5e9452516eda"
      },
      "source": [
        "ratio = [997, 254]\n",
        "labels = ['visited from app', 'purchase']\n",
        "colors = ['aquamarine', 'dodgerblue']\n",
        "\n",
        "plt.pie(ratio, labels=labels, autopct='%.1f%%', colors=colors)\n",
        "plt.show()"
      ],
      "execution_count": 27,
      "outputs": [
        {
          "output_type": "display_data",
          "data": {
            "image/png": "[encoded data removed]",
            "text/plain": [
              "<Figure size 432x288 with 1 Axes>"
            ]
          },
          "metadata": {
            "tags": []
          }
        }
      ]
    },
    {
      "cell_type": "code",
      "metadata": {
        "colab": {
          "base_uri": "https://localhost:8080/",
          "height": 248
        },
        "id": "DA-8QSJnZTcY",
        "outputId": "da078386-0c30-42d9-bcce-639f2373519d"
      },
      "source": [
        "ratio = [521, 178]\n",
        "labels = ['visited from search', 'purchase']\n",
        "colors = ['aquamarine', 'dodgerblue']\n",
        "\n",
        "plt.pie(ratio, labels=labels, autopct='%1.1f%%', colors=colors)\n",
        "plt.show()"
      ],
      "execution_count": 28,
      "outputs": [
        {
          "output_type": "display_data",
          "data": {
            "image/png": "[encoded data removed]",
            "text/plain": [
              "<Figure size 432x288 with 1 Axes>"
            ]
          },
          "metadata": {
            "tags": []
          }
        }
      ]
    },
    {
      "cell_type": "code",
      "metadata": {
        "colab": {
          "base_uri": "https://localhost:8080/",
          "height": 248
        },
        "id": "XRdwBWSJaFRf",
        "outputId": "3dc804ce-929e-4656-fbf5-9c2e80e0a4f1"
      },
      "source": [
        "ratio = [388, 34]\n",
        "labels = ['visited from ad', 'purchase']\n",
        "colors = ['aquamarine', 'dodgerblue']\n",
        "\n",
        "plt.pie(ratio, labels=labels, autopct='%.1f%%', colors=colors)\n",
        "plt.show()"
      ],
      "execution_count": 29,
      "outputs": [
        {
          "output_type": "display_data",
          "data": {
            "image/png": "[encoded data removed]",
            "text/plain": [
              "<Figure size 432x288 with 1 Axes>"
            ]
          },
          "metadata": {
            "tags": []
          }
        }
      ]
    }
  ]
}